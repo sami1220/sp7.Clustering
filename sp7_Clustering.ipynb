{
  "nbformat": 4,
  "nbformat_minor": 0,
  "metadata": {
    "colab": {
      "name": "sp7.Clustering.ipynb",
      "provenance": [],
      "collapsed_sections": []
    },
    "kernelspec": {
      "name": "python3",
      "display_name": "Python 3"
    },
    "language_info": {
      "name": "python"
    }
  },
  "cells": [
    {
      "cell_type": "markdown",
      "metadata": {
        "id": "YphiBcAAuMFs"
      },
      "source": [
        "##【問題1】中心点の初期値を決める\n",
        "\n",
        "入力されたデータから \n",
        "K\n",
        " 個の中心点 \n",
        "μ\n",
        "1\n",
        " から \n",
        "μ\n",
        "K\n",
        " の初期値を決めるコードを作成してください。\n",
        "K\n",
        " は指定したクラスタ数です。\n",
        "\n",
        "\n",
        "最もシンプルな初期値の決定方法は、データ点 \n",
        "X\n",
        "n\n",
        " の中からランダムに \n",
        "K\n",
        " 個選ぶことです。今回はこれを実装してください。\n",
        "\n",
        "\n",
        "K-meansの学習結果は中心点 \n",
        "μ\n",
        " の初期値に影響を受けます。そのため、学習時には複数個の初期値で計算を行います。"
      ]
    },
    {
      "cell_type": "markdown",
      "metadata": {
        "id": "BQp1cqF2cWk_"
      },
      "source": [
        "##【問題2】SSEを求める関数の作成\n",
        "\n",
        "クラスタ内誤差平方和（SSE, Sum of Squared Errors）を計算する関数を作成してください。\n",
        "\n",
        "\n",
        "K-meansはこのSSEを最小化する$rnk$と$μk$を求めることが目的となります。複数個の初期値で計算したクラスタリング結果から、どれを最終的に採用するかを決める際にこのSSEを求める関数を使用します。\n",
        "\n",
        "\n",
        "$$ SSE = \\sum_{n=1}^N \\sum_{k=1}^K r_{nk} \\parallel X_n - \\mu_k\\|^2 $$\n",
        "\n",
        "$n$\n",
        " : データ点のインデックス\n",
        "\n",
        "\n",
        "$k$\n",
        " : クラスタのインデックス\n",
        "\n",
        "\n",
        "$X_n$\n",
        " : \n",
        "n\n",
        "番目のデータ点\n",
        "\n",
        "\n",
        "$μ_\n",
        "k$\n",
        " : \n",
        "k\n",
        "番目の中心点\n",
        "\n",
        "\n",
        "$r_\n",
        "n\n",
        "k$\n",
        " : データ点\n",
        "X\n",
        "n\n",
        "がクラスタ\n",
        "k\n",
        "に所属していたら1、そうでなければ0"
      ]
    },
    {
      "cell_type": "markdown",
      "metadata": {
        "id": "rraNlUcDxGQ4"
      },
      "source": [
        "## 【問題3】クラスタへの割り当て"
      ]
    },
    {
      "cell_type": "code",
      "metadata": {
        "id": "fRkAGNO7d2KK"
      },
      "source": [
        "import numpy as np\n",
        "import matplotlib.pyplot as plt\n"
      ],
      "execution_count": 2,
      "outputs": []
    },
    {
      "cell_type": "code",
      "metadata": {
        "id": "QyjnQFoFxYYo",
        "colab": {
          "base_uri": "https://localhost:8080/"
        },
        "outputId": "79d9e187-f37d-432b-edff-d412c758b7c4"
      },
      "source": [
        "class ScratchKMeans():\n",
        "    \"\"\"\n",
        "    K-meansのスクラッチ実装\n",
        "    Parameters\n",
        "    ----------\n",
        "    n_clusters : int\n",
        "      クラスタ数\n",
        "    n_init : int\n",
        "      中心点の初期値を何回変えて計算するか\n",
        "    max_iter : int\n",
        "      1回の計算で最大何イテレーションするか\n",
        "    tol : float\n",
        "      イテレーションを終了する基準となる中心点と重心の許容誤差\n",
        "    verbose : bool\n",
        "      学習過程を出力する場合はTrue\n",
        "    \"\"\"\n",
        "    def __init__(self, n_clusters, n_init, max_iter, random_seed, tol, verbose=False):\n",
        "        # ハイパーパラメータを属性として記録\n",
        "        self.n_clusters = n_clusters#クラスタの数\n",
        "        self.n_init = n_init#中心の初期値を何回変えて計算するか\n",
        "        self.max_iter = max_iter#１回の計算で最大何イテレするのか\n",
        "        self.random = random_seed\n",
        "        self.tol = tol\n",
        "        self.verbose = verbose\n",
        "        self.n_samples = x.shape[0]\n",
        "        self.process = np.array([])#学習過程\n",
        "        # 問題１ 中心点の初期値を決める\n",
        "        np.random.seed(self.random)\n",
        "        self.clusters = np.random.randint(0, self.n_clusters, self.n_samples)#所属クラスタ(初期)\n",
        "\n",
        "\n",
        "    def fit(self, x):\n",
        "        \"\"\"\n",
        "        K-meansによるクラスタリングを計算\n",
        "        Parameters\n",
        "        ----------\n",
        "        X : 次の形のndarray, shape (n_samples, n_features)\n",
        "            訓練データの特徴量\n",
        "        \"\"\"\n",
        "        # 問題5 繰り返し ※繰り返しが指定した回数に到達する。（雛形では引数max_iter）\n",
        "        for _ in range(self.max_iter):\n",
        "            centroids = np.array([])\n",
        "            new_clusters = np.array([])\n",
        "\n",
        "            # 各クラスタのデータ点の平均をとる\n",
        "            # self.centroids = np.array([x[self.clusters == n, :].mean(axis=0) for n in range(self.n_clusters)])\n",
        "            # 所属クラスタの更新\n",
        "            # 一番近い中心点のクラスタを所属クラスタに更新する\n",
        "            # argminで最小値のインデックスを取得できる\n",
        "            # 問題３\n",
        "            # self.new_clusters = np.array([np.linalg.norm(x - c, axis=1) for c in self.centroids]).argmin(axis=0)\n",
        "\n",
        "            for k in range(self.n_clusters):\n",
        "              z = x[self.clusters == k, :].mean(axis=0)\n",
        "              self.centroids = np.append(centroids, z)\n",
        "\n",
        "            # 問題3 クラスタへの割り当て\n",
        "            for c in self.centroids:\n",
        "              q = np.linalg.norm(x - c, axis=1)#ノルムが計算\n",
        "              self.new_clusters = np.append(new_clusters, q)\n",
        "\n",
        "        # 推定用にShapeと最小値をここで変更する（for文の外）\n",
        "        \n",
        "        # self.new_clusters = self.new_clusters.reshape(self.n_clusters, self.n_samples)\n",
        "        self.new_clusters = self.new_clusters.argmin(axis=0)\n",
        "\n",
        "        # print(self.new_clusters)\n",
        "        # if self.verbose:\n",
        "        #     #verboseをTrueにした際は学習過程を出力\n",
        "        #     print(f'process:\\n{self.process}')\n",
        "\n",
        "    def sse(self, x):\n",
        "      ##【問題2】SSEを求める関数の作成\n",
        "      sse_list = []\n",
        "      for n in range(x.shape[0]):\n",
        "        for k in self.centroids:\n",
        "          if np.any(n == 1):\n",
        "            q = np.linalg.norm(x - k)**2\n",
        "            # q = np.linalg.norm(x - c, axis=1)\n",
        "            sse_list.append(q)\n",
        "      sse = sum(sse_list)\n",
        "      return sse\n",
        "\n",
        "    def predict(self, x):\n",
        "\n",
        "      \"\"\"\n",
        "      入力されたデータがどのクラスタに属するかを計算\n",
        "      \"\"\"\n",
        "      # 空のクラスタがあった場合は中心点をランダムな点に割り当てなおす\n",
        "      # for n in range(self.n_clusters):\n",
        "          # if not np.any(self.new_clusters == n):\n",
        "              # self.centroids[n] = x[np.random.choice(self.n_samples, 1), :]\n",
        "      # self.clusters = self.new_clusters\n",
        "      return self.clusters\n",
        "\n",
        "myKMean = ScratchKMeans(n_clusters=4, n_init=10, max_iter=300, tol=0.01, verbose=False,random_seed=42)\n",
        "myKMean.fit(x)\n",
        "my_pred = myKMean.predict(x)\n",
        "print('my_pred')\n",
        "print(my_pred)\n",
        "print('SSE')\n",
        "print(myKMean.sse(x))"
      ],
      "execution_count": 246,
      "outputs": [
        {
          "output_type": "stream",
          "text": [
            "my_pred\n",
            "[2 3 0 2 2 3 0 0 2 1 2 2 2 2 3 0 3 3 3 2 1 0 1 3 3 1 1 1 3 3 0 0 3 1 1 0 3\n",
            " 0 0 2 2 2 1 3 3 3 3 2 1 1 2 1 2 3 2 3 3 0 2 0 2 2 0 0 2 1 3 0 3 1 1 1 0 1\n",
            " 0 1 3 3 2 3 2 3 0 3 2 2 1 0 3 1 3 3 1 1 1 1 1 3 1 0]\n",
            "SSE\n",
            "5037.913319327696\n"
          ],
          "name": "stdout"
        }
      ]
    },
    {
      "cell_type": "code",
      "metadata": {
        "id": "_3n0OhZR1rCT"
      },
      "source": [
        "iter = np.arange(0, 4, 1)\n",
        "mysse = myKMean.sse(x)\n",
        "# plt.plot(iter, mysse[1])\n",
        "plt.show()"
      ],
      "execution_count": 220,
      "outputs": []
    },
    {
      "cell_type": "markdown",
      "metadata": {
        "id": "ikwWkLM3wIjt"
      },
      "source": [
        "## 【問題6】 異なる初期値で計算"
      ]
    },
    {
      "cell_type": "markdown",
      "metadata": {
        "id": "XvegchGOwSrC"
      },
      "source": [
        "## 【問題7】推定"
      ]
    },
    {
      "cell_type": "code",
      "metadata": {
        "colab": {
          "base_uri": "https://localhost:8080/"
        },
        "id": "RXuGa89Rvi4n",
        "outputId": "7deae28a-cc22-4b41-b24a-feccbb707f2f"
      },
      "source": [
        "# 中心点の初期値を2回かえる場合\n",
        "myKMean_2 = ScratchKMeans(n_clusters=4, n_init=2, max_iter=300, tol=0.01, verbose=False,random_seed=None)\n",
        "myKMean_2.fit(x)\n",
        "my_pred_2 = myKMean_2.predict(x)\n",
        "\n",
        "print('n_init= 2')\n",
        "print('my_pred_2')\n",
        "print(my_pred_2)\n"
      ],
      "execution_count": 193,
      "outputs": [
        {
          "output_type": "stream",
          "text": [
            "n_init= 2\n",
            "my_pred_2\n",
            "[3 2 0 3 0 2 0 3 2 0 1 1 3 1 3 0 2 2 2 3 2 0 1 3 0 0 0 3 3 3 3 1 3 3 1 1 2\n",
            " 2 3 1 1 0 1 0 0 2 3 1 3 3 2 2 3 2 1 1 0 1 1 1 2 1 3 2 0 0 1 3 3 2 1 0 2 3\n",
            " 2 1 3 3 3 3 3 3 1 0 3 0 1 3 3 0 0 3 0 3 1 2 1 2 3 2]\n"
          ],
          "name": "stdout"
        }
      ]
    },
    {
      "cell_type": "code",
      "metadata": {
        "colab": {
          "base_uri": "https://localhost:8080/"
        },
        "id": "KU2TCsozuhG7",
        "outputId": "e63a46df-f91b-477d-809c-80dbaab56700"
      },
      "source": [
        "# 中心点の初期値を5回かえる場合\n",
        "myKMean_1 = ScratchKMeans(n_clusters=4, n_init=5, max_iter=300, tol=0.01, verbose=False,random_seed=None)\n",
        "myKMean_1.fit(x)\n",
        "my_pred_1 = myKMean_1.predict(x)\n",
        "\n",
        "print('n_init= 5')\n",
        "print('my_pred_1')\n",
        "print(my_pred_1)\n"
      ],
      "execution_count": 188,
      "outputs": [
        {
          "output_type": "stream",
          "text": [
            "n_init= 5\n",
            "my_pred_1\n",
            "[0 1 0 1 0 2 3 2 3 3 0 1 2 2 1 2 2 2 0 1 0 2 3 2 1 2 0 1 1 3 0 0 2 3 1 3 1\n",
            " 3 1 2 0 3 2 1 0 3 1 3 1 3 1 3 2 0 2 3 1 2 1 2 3 2 3 2 2 2 2 2 0 1 0 1 2 2\n",
            " 2 2 0 2 1 1 1 1 2 0 0 0 1 2 3 0 2 3 2 2 1 3 2 2 2 0]\n"
          ],
          "name": "stdout"
        }
      ]
    },
    {
      "cell_type": "code",
      "metadata": {
        "colab": {
          "base_uri": "https://localhost:8080/"
        },
        "id": "_oSQJ1mLv7LZ",
        "outputId": "54db804e-bf22-4cac-d589-c0d49f06fd10"
      },
      "source": [
        "# 中心点の初期値を20回かえる場合\n",
        "myKMean_20 = ScratchKMeans(n_clusters=4, n_init=20, max_iter=300, tol=0.01, verbose=False,random_seed=None)\n",
        "myKMean_20.fit(x)\n",
        "my_pred_20 = myKMean_20.predict(x)\n",
        "\n",
        "print('n_init= 20')\n",
        "print('my_pred_20')\n",
        "print(my_pred_20)"
      ],
      "execution_count": 195,
      "outputs": [
        {
          "output_type": "stream",
          "text": [
            "n_init= 20\n",
            "my_pred_20\n",
            "[0 0 1 2 2 2 1 2 3 0 3 0 0 1 0 2 1 3 2 0 1 1 1 1 2 3 3 0 2 1 3 3 3 1 3 3 3\n",
            " 2 3 1 1 3 2 2 0 0 1 0 1 3 0 0 2 3 2 3 3 3 3 2 1 0 3 3 3 2 0 3 3 0 3 0 2 2\n",
            " 0 2 2 0 3 0 3 2 1 3 2 1 2 0 2 0 0 0 2 1 2 2 1 0 2 1]\n"
          ],
          "name": "stdout"
        }
      ]
    },
    {
      "cell_type": "markdown",
      "metadata": {
        "id": "vzty-y_3uLyt"
      },
      "source": [
        ""
      ]
    },
    {
      "cell_type": "code",
      "metadata": {
        "colab": {
          "base_uri": "https://localhost:8080/",
          "height": 281
        },
        "id": "ISARVVvuZxw0",
        "outputId": "774dddcb-28ec-4eaf-ae3c-84da91f11947"
      },
      "source": [
        "# データセット\n",
        "from sklearn.datasets import make_blobs\n",
        "x, _ = make_blobs(n_samples=100, n_features=2, centers=4, cluster_std=0.5, shuffle=True, random_state=0)\n",
        "\n",
        "plt.title(\"sample data\")\n",
        "plt.scatter(x[:, 0], x[:, 1], color=\"gainsboro\", marker='o', edgecolor='black', s=50, label=\"x\")\n",
        "\n",
        "plt.grid( linestyle='dotted', linewidth=1)\n",
        "plt.legend()\n",
        "plt.show()"
      ],
      "execution_count": 221,
      "outputs": [
        {
          "output_type": "display_data",
          "data": {
            "image/png": "[encoded data removed]",
            "text/plain": [
              "<Figure size 432x288 with 1 Axes>"
            ]
          },
          "metadata": {
            "needs_background": "light"
          }
        }
      ]
    },
    {
      "cell_type": "code",
      "metadata": {
        "colab": {
          "base_uri": "https://localhost:8080/"
        },
        "id": "khp4rmg-UXDe",
        "outputId": "b27dec23-13d8-4558-8e2d-1991e9f1c536"
      },
      "source": [
        "# scikit-learnで実装\n",
        "from sklearn.cluster import KMeans\n",
        "kmeans = KMeans(n_clusters=4)\n",
        "predict = kmeans.fit_predict(x)\n",
        "print(predict)\n",
        "print(kmeans.cluster_centers_)#各クラスタの重心位置\n",
        "print(kmeans.inertia_)"
      ],
      "execution_count": 235,
      "outputs": [
        {
          "output_type": "stream",
          "text": [
            "[0 1 0 0 0 0 3 1 0 1 1 1 1 1 1 2 2 3 3 2 0 1 3 2 0 3 3 0 2 2 2 1 2 2 3 0 1\n",
            " 2 1 3 0 3 1 3 3 1 2 3 0 0 0 2 3 3 3 1 1 2 2 1 1 2 2 0 2 1 3 3 2 0 1 2 0 1\n",
            " 0 0 3 3 2 2 2 1 3 0 2 3 2 2 0 0 0 3 0 3 3 1 1 3 1 0]\n",
            "[[ 0.92578447  4.32475792]\n",
            " [-1.26811733  7.76378266]\n",
            " [ 1.99186903  0.96561071]\n",
            " [-1.47935679  3.11716896]]\n",
            "48.63378320706403\n"
          ],
          "name": "stdout"
        }
      ]
    },
    {
      "cell_type": "markdown",
      "metadata": {
        "id": "9XMBkLWW66gi"
      },
      "source": [
        "## 【問題8】エルボー法の実装"
      ]
    },
    {
      "cell_type": "code",
      "metadata": {
        "colab": {
          "base_uri": "https://localhost:8080/",
          "height": 301
        },
        "id": "cS7MLm0O3cUC",
        "outputId": "5b9c4803-6bd3-4db5-e105-fe74001a686f"
      },
      "source": [
        "SSE = []\n",
        "for i in range(1, 11):\n",
        "  myKMean = ScratchKMeans(n_clusters=i, n_init=10, max_iter=300, tol=0.01, verbose=False,random_seed=None)\n",
        "  myKMean.fit(x)\n",
        "  SSE.append(myKMean.sse(x))\n",
        "print(SSE)\n",
        "\n",
        "plt.plot(range(1, 11), SSE, marker='o');"
      ],
      "execution_count": 249,
      "outputs": [
        {
          "output_type": "stream",
          "text": [
            "[4940.978723560656, 5299.518443632709, 4667.412263813572, 4430.609845996121, 6290.557672467892, 4902.236383660916, 5183.4446670848665, 5315.966841456317, 4436.8424633779505, 4470.456510003677]\n"
          ],
          "name": "stdout"
        },
        {
          "output_type": "display_data",
          "data": {
            "image/png": "[encoded data removed]",
            "text/plain": [
              "<Figure size 432x288 with 1 Axes>"
            ]
          },
          "metadata": {
            "needs_background": "light"
          }
        }
      ]
    }
  ]
}